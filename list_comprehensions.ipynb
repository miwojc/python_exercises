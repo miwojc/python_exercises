{
 "cells": [
  {
   "cell_type": "markdown",
   "metadata": {},
   "source": [
    "### https://www.datacamp.com/community/tutorials/python-list-comprehension"
   ]
  },
  {
   "cell_type": "code",
   "execution_count": 8,
   "metadata": {},
   "outputs": [],
   "source": [
    "# Initialize `numbers`\n",
    "\n",
    "numbers = range(10)"
   ]
  },
  {
   "cell_type": "code",
   "execution_count": 9,
   "metadata": {},
   "outputs": [
    {
     "name": "stdout",
     "output_type": "stream",
     "text": [
      "[0, 4, 16, 36, 64]\n"
     ]
    }
   ],
   "source": [
    "# Initialize `new_list`\n",
    "new_list = []\n",
    "\n",
    "# Add values to `new_list`\n",
    "for n in numbers:\n",
    "    if n%2==0:\n",
    "        new_list.append(n**2)\n",
    "        \n",
    "# Print `new_list`\n",
    "print(new_list)"
   ]
  },
  {
   "cell_type": "code",
   "execution_count": 10,
   "metadata": {},
   "outputs": [
    {
     "name": "stdout",
     "output_type": "stream",
     "text": [
      "[0, 4, 16, 36, 64]\n"
     ]
    }
   ],
   "source": [
    "# Create `new_list`\n",
    "new_list = [n**2 for n in numbers if n%2==0]\n",
    "\n",
    "# Print `new_list`\n",
    "print(new_list)"
   ]
  },
  {
   "cell_type": "code",
   "execution_count": 1,
   "metadata": {},
   "outputs": [],
   "source": [
    "# Import `timeit`\n",
    "import timeit"
   ]
  },
  {
   "cell_type": "code",
   "execution_count": 14,
   "metadata": {},
   "outputs": [
    {
     "name": "stdout",
     "output_type": "stream",
     "text": [
      "0.018234186870017766\n"
     ]
    }
   ],
   "source": [
    "# Print the execution time\n",
    "print(timeit.timeit('[n**2 for n in range(10) if n%2==0]', number=10_000))"
   ]
  },
  {
   "cell_type": "code",
   "execution_count": 15,
   "metadata": {},
   "outputs": [
    {
     "name": "stdout",
     "output_type": "stream",
     "text": [
      "0.01885340782075673\n"
     ]
    }
   ],
   "source": [
    "# Define `power_two()`\n",
    "def power_two(numbers):\n",
    "    for n in numbers:\n",
    "        if n%2==0:\n",
    "            new_list.append(n**2)\n",
    "    return new_list\n",
    "\n",
    "# Print the execution time\n",
    "print(timeit.timeit('power_two(numbers)', globals=globals(), number=10_000))"
   ]
  },
  {
   "cell_type": "code",
   "execution_count": null,
   "metadata": {},
   "outputs": [],
   "source": []
  }
 ],
 "metadata": {
  "kernelspec": {
   "display_name": "Python 3",
   "language": "python",
   "name": "python3"
  },
  "language_info": {
   "codemirror_mode": {
    "name": "ipython",
    "version": 3
   },
   "file_extension": ".py",
   "mimetype": "text/x-python",
   "name": "python",
   "nbconvert_exporter": "python",
   "pygments_lexer": "ipython3",
   "version": "3.6.8"
  }
 },
 "nbformat": 4,
 "nbformat_minor": 2
}
