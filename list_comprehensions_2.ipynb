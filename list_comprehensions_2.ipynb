{
 "cells": [
  {
   "cell_type": "markdown",
   "metadata": {},
   "source": [
    "### List Comprehensions with Conditionals"
   ]
  },
  {
   "cell_type": "code",
   "execution_count": 2,
   "metadata": {},
   "outputs": [],
   "source": [
    "feet = [128608, 119750, 122375, 124015]"
   ]
  },
  {
   "cell_type": "code",
   "execution_count": 3,
   "metadata": {},
   "outputs": [
    {
     "name": "stdout",
     "output_type": "stream",
     "text": [
      "[64304.0, 59875.0]\n"
     ]
    }
   ],
   "source": [
    "# Define `uneven`\n",
    "uneven = [x/2 for x in feet if x%2==0]\n",
    "\n",
    "# Print `uneven'\n",
    "print(uneven)"
   ]
  },
  {
   "cell_type": "code",
   "execution_count": 4,
   "metadata": {},
   "outputs": [
    {
     "name": "stdout",
     "output_type": "stream",
     "text": [
      "[64304.0, 59875.0]\n"
     ]
    }
   ],
   "source": [
    "# Rewrite with Python loop\n",
    "\n",
    "# Initialize an empty list `uneven`\n",
    "uneven = []\n",
    "\n",
    "# Add value to `eneven`\n",
    "for x in feet:\n",
    "    if x % 2 == 0:\n",
    "        x = x/2\n",
    "        uneven.append(x)\n",
    "        \n",
    "# Print `uneven`\n",
    "print(uneven)"
   ]
  },
  {
   "cell_type": "markdown",
   "metadata": {},
   "source": [
    "#### Multiple If Conditions"
   ]
  },
  {
   "cell_type": "code",
   "execution_count": 7,
   "metadata": {},
   "outputs": [
    {
     "name": "stdout",
     "output_type": "stream",
     "text": [
      "[0, 6, 12, 18, 24, 30, 36, 42, 48, 54, 60, 66, 72, 78, 84, 90, 96]\n"
     ]
    }
   ],
   "source": [
    "# For loop\n",
    "divided = []\n",
    "\n",
    "for x in range(100):\n",
    "    if x%2 == 0:\n",
    "        if x%6 == 0:\n",
    "            divided.append(x)\n",
    "\n",
    "# Print `divided`\n",
    "print(divided)"
   ]
  },
  {
   "cell_type": "code",
   "execution_count": 10,
   "metadata": {},
   "outputs": [
    {
     "name": "stdout",
     "output_type": "stream",
     "text": [
      "[0, 6, 12, 18, 24, 30, 36, 42, 48, 54, 60, 66, 72, 78, 84, 90, 96]\n"
     ]
    }
   ],
   "source": [
    "# List comprehension\n",
    "divided = [x for x in range(100) if (x%2==0 and x%6==0)]\n",
    "\n",
    "# Print divided\n",
    "print(divided)"
   ]
  },
  {
   "cell_type": "code",
   "execution_count": 12,
   "metadata": {},
   "outputs": [
    {
     "name": "stdout",
     "output_type": "stream",
     "text": [
      "[0, 6, 12, 18, 24, 30, 36, 42, 48, 54, 60, 66, 72, 78, 84, 90, 96]\n"
     ]
    }
   ],
   "source": [
    "# Data Camp solution\n",
    "divided = [x for x in range(100) if x%2==0 if x%6==0]\n",
    "\n",
    "# Print `divided`\n",
    "print(divided)"
   ]
  },
  {
   "cell_type": "markdown",
   "metadata": {},
   "source": [
    "#### If-Else Conditions"
   ]
  },
  {
   "cell_type": "code",
   "execution_count": null,
   "metadata": {},
   "outputs": [],
   "source": []
  }
 ],
 "metadata": {
  "kernelspec": {
   "display_name": "Python 3",
   "language": "python",
   "name": "python3"
  },
  "language_info": {
   "codemirror_mode": {
    "name": "ipython",
    "version": 3
   },
   "file_extension": ".py",
   "mimetype": "text/x-python",
   "name": "python",
   "nbconvert_exporter": "python",
   "pygments_lexer": "ipython3",
   "version": "3.7.1"
  }
 },
 "nbformat": 4,
 "nbformat_minor": 2
}
