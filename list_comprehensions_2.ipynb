{
 "cells": [
  {
   "cell_type": "markdown",
   "metadata": {},
   "source": [
    "### List Comprehensions with Conditionals"
   ]
  },
  {
   "cell_type": "code",
   "execution_count": 2,
   "metadata": {},
   "outputs": [],
   "source": [
    "feet = [128608, 119750, 122375, 124015]"
   ]
  },
  {
   "cell_type": "code",
   "execution_count": 3,
   "metadata": {},
   "outputs": [
    {
     "name": "stdout",
     "output_type": "stream",
     "text": [
      "[64304.0, 59875.0]\n"
     ]
    }
   ],
   "source": [
    "# Define `uneven`\n",
    "uneven = [x/2 for x in feet if x%2==0]\n",
    "\n",
    "# Print `uneven'\n",
    "print(uneven)"
   ]
  },
  {
   "cell_type": "code",
   "execution_count": 4,
   "metadata": {},
   "outputs": [
    {
     "name": "stdout",
     "output_type": "stream",
     "text": [
      "[64304.0, 59875.0]\n"
     ]
    }
   ],
   "source": [
    "# Rewrite with Python loop\n",
    "\n",
    "# Initialize an empty list `uneven`\n",
    "uneven = []\n",
    "\n",
    "# Add value to `eneven`\n",
    "for x in feet:\n",
    "    if x % 2 == 0:\n",
    "        x = x/2\n",
    "        uneven.append(x)\n",
    "        \n",
    "# Print `uneven`\n",
    "print(uneven)"
   ]
  },
  {
   "cell_type": "markdown",
   "metadata": {},
   "source": [
    "#### Multiple If Conditions"
   ]
  },
  {
   "cell_type": "code",
   "execution_count": 7,
   "metadata": {},
   "outputs": [
    {
     "name": "stdout",
     "output_type": "stream",
     "text": [
      "[0, 6, 12, 18, 24, 30, 36, 42, 48, 54, 60, 66, 72, 78, 84, 90, 96]\n"
     ]
    }
   ],
   "source": [
    "# For loop\n",
    "divided = []\n",
    "\n",
    "for x in range(100):\n",
    "    if x%2 == 0:\n",
    "        if x%6 == 0:\n",
    "            divided.append(x)\n",
    "\n",
    "# Print `divided`\n",
    "print(divided)"
   ]
  },
  {
   "cell_type": "code",
   "execution_count": 10,
   "metadata": {},
   "outputs": [
    {
     "name": "stdout",
     "output_type": "stream",
     "text": [
      "[0, 6, 12, 18, 24, 30, 36, 42, 48, 54, 60, 66, 72, 78, 84, 90, 96]\n"
     ]
    }
   ],
   "source": [
    "# List comprehension\n",
    "divided = [x for x in range(100) if (x%2==0 and x%6==0)]\n",
    "\n",
    "# Print divided\n",
    "print(divided)"
   ]
  },
  {
   "cell_type": "code",
   "execution_count": 12,
   "metadata": {},
   "outputs": [
    {
     "name": "stdout",
     "output_type": "stream",
     "text": [
      "[0, 6, 12, 18, 24, 30, 36, 42, 48, 54, 60, 66, 72, 78, 84, 90, 96]\n"
     ]
    }
   ],
   "source": [
    "# Data Camp solution\n",
    "divided = [x for x in range(100) if x%2==0 if x%6==0]\n",
    "\n",
    "# Print `divided`\n",
    "print(divided)"
   ]
  },
  {
   "cell_type": "markdown",
   "metadata": {},
   "source": [
    "#### If-Else Conditions"
   ]
  },
  {
   "cell_type": "code",
   "execution_count": 13,
   "metadata": {},
   "outputs": [
    {
     "data": {
      "text/plain": [
       "[128609, 119755, 122376, 124016]"
      ]
     },
     "execution_count": 13,
     "metadata": {},
     "output_type": "execute_result"
    }
   ],
   "source": [
    "[x+1 if x >= 120_000 else x+5 for x in feet]"
   ]
  },
  {
   "cell_type": "code",
   "execution_count": 14,
   "metadata": {},
   "outputs": [],
   "source": [
    "# rewrite of the above piece of code\n",
    "for x in feet:\n",
    "    if x >= 120_000:\n",
    "        x + 1\n",
    "    else:\n",
    "        x + 5"
   ]
  },
  {
   "cell_type": "markdown",
   "metadata": {},
   "source": [
    "#### Nested List Comprehensions"
   ]
  },
  {
   "cell_type": "code",
   "execution_count": 17,
   "metadata": {},
   "outputs": [
    {
     "data": {
      "text/plain": [
       "[1, 2, 3, 4, 5, 6, 7, 8]"
      ]
     },
     "execution_count": 17,
     "metadata": {},
     "output_type": "execute_result"
    }
   ],
   "source": [
    "# Example\n",
    "list_of_list = [[1,2,3],[4,5,6],[7,8]]\n",
    "\n",
    "# Flatten `list_of_list`\n",
    "[y for x in list_of_list for y in x]"
   ]
  },
  {
   "cell_type": "code",
   "execution_count": 19,
   "metadata": {},
   "outputs": [
    {
     "data": {
      "text/plain": [
       "[[1, 4, 7], [2, 5, 8], [3, 6, 9]]"
      ]
     },
     "execution_count": 19,
     "metadata": {},
     "output_type": "execute_result"
    }
   ],
   "source": [
    "# Another example\n",
    "matrix = [[1,2,3],[4,5,6],[7,8,9]]\n",
    "\n",
    "# Chage the logic of nested list comprehension\n",
    "[[row[i] for row in matrix] for i in range(3)]"
   ]
  },
  {
   "cell_type": "code",
   "execution_count": 21,
   "metadata": {},
   "outputs": [
    {
     "name": "stdout",
     "output_type": "stream",
     "text": [
      "[[1, 4, 7], [2, 5, 8], [3, 6, 9]]\n"
     ]
    }
   ],
   "source": [
    "# Rewrite to a nested for loop\n",
    "transposed = []\n",
    "\n",
    "for i in range(3):\n",
    "    transposed_row = []\n",
    "    for row in matrix:\n",
    "        transposed_row.append(row[i])\n",
    "    transposed.append(transposed_row)\n",
    "    \n",
    "# Print `transposed`\n",
    "print(transposed)"
   ]
  },
  {
   "cell_type": "code",
   "execution_count": 22,
   "metadata": {},
   "outputs": [
    {
     "data": {
      "text/plain": [
       "[[0, 0, 0, 0], [0, 0, 0, 0], [0, 0, 0, 0]]"
      ]
     },
     "execution_count": 22,
     "metadata": {},
     "output_type": "execute_result"
    }
   ],
   "source": [
    "# List of lists that is a matrix\n",
    "matrix = [[0 for col in range(4)] for row in range(3)]\n",
    "\n",
    "matrix"
   ]
  },
  {
   "cell_type": "code",
   "execution_count": 29,
   "metadata": {},
   "outputs": [
    {
     "name": "stdout",
     "output_type": "stream",
     "text": [
      "[[0, 0, 0, 0], [0, 0, 0, 0], [0, 0, 0, 0]]\n"
     ]
    }
   ],
   "source": [
    "# Rewrite using nested for loops\n",
    "matrix = []\n",
    "for x in range(3):\n",
    "    nested = []\n",
    "    matrix.append(nested)\n",
    "    for row in range(4):\n",
    "        nested.append(0)\n",
    "\n",
    "# Print nested\n",
    "print(matrix)"
   ]
  },
  {
   "cell_type": "code",
   "execution_count": 30,
   "metadata": {},
   "outputs": [
    {
     "name": "stdout",
     "output_type": "stream",
     "text": [
      "[[0, 0, 0, 0], [0, 0, 0, 0], [0, 0, 0, 0]]\n"
     ]
    }
   ],
   "source": [
    "# Translate for loop to while loop\n",
    "x = 0\n",
    "matrix = []\n",
    "\n",
    "while x < 3:\n",
    "    nested = []\n",
    "    y = 0\n",
    "    matrix.append(nested)\n",
    "    x = x + 1\n",
    "    while y < 4:\n",
    "        nested.append(0)\n",
    "        y = y + 1\n",
    "        \n",
    "# Print matrix\n",
    "print(matrix)"
   ]
  },
  {
   "cell_type": "code",
   "execution_count": 31,
   "metadata": {},
   "outputs": [
    {
     "data": {
      "text/plain": [
       "[[128608, 119750, 122375, 124015],\n",
       " [128608, 119750, 122375, 124015],\n",
       " [128608, 119750, 122375, 124015],\n",
       " [128608, 119750, 122375, 124015]]"
      ]
     },
     "execution_count": 31,
     "metadata": {},
     "output_type": "execute_result"
    }
   ],
   "source": [
    "[[int(x) for x in feet] for x in feet]"
   ]
  },
  {
   "cell_type": "code",
   "execution_count": null,
   "metadata": {},
   "outputs": [],
   "source": []
  }
 ],
 "metadata": {
  "kernelspec": {
   "display_name": "Python 3",
   "language": "python",
   "name": "python3"
  },
  "language_info": {
   "codemirror_mode": {
    "name": "ipython",
    "version": 3
   },
   "file_extension": ".py",
   "mimetype": "text/x-python",
   "name": "python",
   "nbconvert_exporter": "python",
   "pygments_lexer": "ipython3",
   "version": "3.7.1"
  }
 },
 "nbformat": 4,
 "nbformat_minor": 2
}
